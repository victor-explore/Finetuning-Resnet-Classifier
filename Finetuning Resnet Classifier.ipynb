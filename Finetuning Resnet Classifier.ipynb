{
 "cells": [
  {
   "cell_type": "code",
   "execution_count": null,
   "metadata": {
    "vscode": {
     "languageId": "plaintext"
    }
   },
   "outputs": [],
   "source": [
    "device = \"cuda\" if torch.cuda.is_available() else 'cpu'\n",
    "data_dir = \"animals\"\n",
    "N_EPOCHS = 50\n",
    "BATCH_SIZE  =128\n",
    "NUM_CLASSES = 90\n",
    "#NUM_WORKERS = 4  # Number of dataloader workers"
   ]
  },
  {
   "cell_type": "code",
   "execution_count": null,
   "metadata": {
    "vscode": {
     "languageId": "plaintext"
    }
   },
   "outputs": [],
   "source": [
    "model = models.resnet50(weights = models.ResNet50_Weights.DEFAULT).to(device)     # importing resnet50 from torchvision.models\n",
    "\n",
    "fc_features = model.fc.in_features      # no. of input features to the fully connected layer of resnet50\n",
    "\n",
    "model.fc = nn.Sequential(nn.Linear(fc_features, NUM_CLASSES),       # changing the fully connected layer to output 90 classes instead of 1000 classses.\n",
    "                         nn.ReLU(), torch.nn.Softmax()).to(device)\n",
    "# freezing the inital layer parameters\n",
    "for param in model.parameters():\n",
    "    param.requires_grad = False\n",
    "# unfreezing the parameters last convulution and fully connected layer\n",
    "for param in model.layer4.parameters():\n",
    "    param.requires_grad = True\n",
    "for param in model.fc.parameters():\n",
    "    param.requires_grad = True"
   ]
  },
  {
   "cell_type": "code",
   "execution_count": null,
   "metadata": {
    "vscode": {
     "languageId": "plaintext"
    }
   },
   "outputs": [],
   "source": [
    "summary(model,input_size = ( 3,224,224))"
   ]
  },
  {
   "cell_type": "code",
   "execution_count": null,
   "metadata": {
    "vscode": {
     "languageId": "plaintext"
    }
   },
   "outputs": [],
   "source": [
    "# loading dataset and applying resizing the images to (3,224,224) as resnet requires images of sizes (224,224) as inputs.\n",
    "\n",
    "train_transforms = transforms.Compose([\n",
    "    transforms.RandomHorizontalFlip(p=0.5),\n",
    "    transforms.RandomRotation(degrees=20),\n",
    "    Resize((224, 224)),\n",
    "    ToTensor(),\n",
    "    Normalize(mean=[0.485, 0.456, 0.406], std=[0.229, 0.224, 0.225]),\n",
    "])\n",
    "\n",
    "test_val_transforms = transforms.Compose([\n",
    "    Resize((224, 224)),\n",
    "    ToTensor(),\n",
    "    Normalize(mean=[0.485, 0.456, 0.406], std=[0.229, 0.224, 0.225]),\n",
    "])\n",
    "\n",
    "img_dataset = torchvision.datasets.ImageFolder(\n",
    "    root=data_dir)\n",
    "len(img_dataset)"
   ]
  },
  {
   "cell_type": "code",
   "execution_count": null,
   "metadata": {
    "vscode": {
     "languageId": "plaintext"
    }
   },
   "outputs": [],
   "source": [
    "# SPLITTING DATASET INTO TRAIN,TEST AND VAL.\n",
    "# train_dataset,val_dataset,test_dataset = random_split(img_dataset,[int(0.6*(len(img_dataset))),int(0.2*(len(img_dataset))),int(0.2*(len(img_dataset)))])\n",
    "train_dataset, val_dataset, test_dataset = random_split(\n",
    "    img_dataset, [3240, 1080, 1080])\n",
    "\n",
    "train_dataset.dataset.transform = train_transforms\n",
    "test_dataset.dataset.transform = test_val_transforms\n",
    "val_dataset.dataset.transform = test_val_transforms"
   ]
  },
  {
   "cell_type": "code",
   "execution_count": null,
   "metadata": {
    "vscode": {
     "languageId": "plaintext"
    }
   },
   "outputs": [],
   "source": [
    "loss_fn = nn.CrossEntropyLoss().to(device)\n",
    "optimizer = torch.optim.SGD(model.parameters(), lr=0.1, momentum=0.9)\n",
    "scheduler = torch.optim.lr_scheduler.StepLR(optimizer, step_size=25, gamma=0.1)\n",
    "model = model.to(device)\n",
    "\n",
    "train_dataloader = DataLoader(\n",
    "    train_dataset, batch_size = BATCH_SIZE, shuffle=True)\n",
    "val_dataloader = DataLoader(\n",
    "    val_dataset, batch_size = len(val_dataset))\n",
    "test_dataloader = DataLoader(\n",
    "    test_dataset, batch_size = len(test_dataset))"
   ]
  },
  {
   "cell_type": "code",
   "execution_count": null,
   "metadata": {
    "vscode": {
     "languageId": "plaintext"
    }
   },
   "outputs": [],
   "source": [
    "def f1_score(preds,labels):\n",
    "    preds  = torch.argmax(preds, dim = 1)\n",
    "   \n",
    " \n",
    "    tp = torch.zeros(NUM_CLASSES)\n",
    "    fp = torch.zeros(NUM_CLASSES)\n",
    "    fn = torch.zeros(NUM_CLASSES)\n",
    "\n",
    "    for i in range(NUM_CLASSES):\n",
    "        a = torch.where(preds == i, preds, i)\n",
    "        b = torch.where(labels == i, labels, i)\n",
    "        c = torch.where(preds != i, preds, i)\n",
    "        d = torch.where(labels != i, labels, i)\n",
    "\n",
    "        tp[i] = torch.where(a == b, a, b).sum().item()\n",
    "        fp[i] = torch.where(a == d, a, d).sum().item()\n",
    "        fn[i] = torch.where(c == b, c, b).sum().item()\n",
    "\n",
    "    precision = tp/(tp + fp + 1e-5)\n",
    "    recall = tp/(tp + fn + 1e-5)\n",
    "\n",
    "    f1_scores = 2*(precision*recall)/(precision + recall + 1e-5)\n",
    "\n",
    "    return f1_scores.mean().item()"
   ]
  },
  {
   "cell_type": "code",
   "execution_count": null,
   "metadata": {
    "vscode": {
     "languageId": "plaintext"
    }
   },
   "outputs": [],
   "source": [
    "def accuracy_fn(preds, labels):\n",
    "\n",
    "    acc = (preds.argmax(dim = 1) == labels).sum().item()\n",
    "    return acc/len(labels)"
   ]
  },
  {
   "cell_type": "code",
   "execution_count": null,
   "metadata": {
    "vscode": {
     "languageId": "plaintext"
    }
   },
   "outputs": [],
   "source": [
    "train_losses = []\n",
    "val_losses = []\n",
    "train_accuracy, val_accuracy = [], []\n",
    "best_model = model\n",
    "best_val_loss = float(\"inf\")\n",
    "\n",
    "\n",
    "for epoch in tqdm(range(N_EPOCHS)):\n",
    "    # training loop\n",
    "    train_loss, val_loss = 0, 0\n",
    "    train_F1_score, val_F1_score = 0, 0 \n",
    "    train_acc, val_acc = 0, 0 \n",
    "    \n",
    "\n",
    "    for (X, y) in (train_dataloader):\n",
    "        X, y = X.to(device), y.to(device)\n",
    "        model.train()\n",
    "        y_pred = model(X.detach())\n",
    "        train_loss = loss_fn(y_pred, y)\n",
    "        train_acc = accuracy_fn(y_pred, y)\n",
    "        train_F1_score = f1_score(y_pred, y)\n",
    "        optimizer.zero_grad()\n",
    "        train_loss.backward()\n",
    "        optimizer.step()\n",
    "\n",
    "    # validation loop\n",
    "    with torch.inference_mode():\n",
    "        for (X, y) in tqdm(val_dataloader):\n",
    "            X, y = X.to(device), y.to(device)\n",
    "            model.eval()\n",
    "            y_pred = model(X.detach())\n",
    "            val_loss = loss_fn(y_pred, y)\n",
    "            val_acc = accuracy_fn(y_pred, y)\n",
    "            val_F1_score = f1_score(y_pred, y)\n",
    "\n",
    "\n",
    "    train_accuracy.append(train_acc)\n",
    "    val_accuracy.append(val_acc)\n",
    "    train_losses.append(train_loss)\n",
    "    val_losses.append(val_loss)\n",
    "\n",
    "\n",
    "    print(f\"EPOCH {epoch+1}: training_loss: {train_loss:.4f}, validation_loss: {val_loss:.4f}\")\n",
    "    print(f\"EPOCH {epoch+1}: training_accuracy: {train_acc:.4f}, validation_accuracy: {val_acc}\")\n",
    "    print(f\"EPOCH {epoch+1}: training_F1 Score: {train_F1_score:.4f}, validation_F1 Score: {val_F1_score}\")"
   ]
  },
  {
   "cell_type": "code",
   "execution_count": null,
   "metadata": {
    "vscode": {
     "languageId": "plaintext"
    }
   },
   "outputs": [],
   "source": [
    "with torch.inference_mode():\n",
    "        for (X, y) in tqdm(test_dataloader):\n",
    "            X, y = X.to(device), y.to(device)\n",
    "            model.eval()\n",
    "            y_pred = model(X.detach())\n",
    "            test_loss = loss_fn(y_pred, y)\n",
    "            test_accuracy = accuracy_fn(y_pred, y)\n",
    "            test_F1_score = f1_score(y_pred, y)\n",
    "\n",
    "print(f\"test loss :{test_loss :.4f},test accuracy :{test_accuracy :.4f}, test F1 Score :{test_F1_score :.4f}\")"
   ]
  },
  {
   "cell_type": "code",
   "execution_count": null,
   "metadata": {
    "vscode": {
     "languageId": "plaintext"
    }
   },
   "outputs": [],
   "source": [
    "save_path = os.path.join(path,\"BESTMODEL.pth\")\n",
    "torch.save(model.state_dict(),save_path)"
   ]
  }
 ],
 "metadata": {
  "language_info": {
   "name": "python"
  }
 },
 "nbformat": 4,
 "nbformat_minor": 2
}
